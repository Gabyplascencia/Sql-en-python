{
 "cells": [
  {
   "cell_type": "markdown",
   "metadata": {},
   "source": [
    "---"
   ]
  },
  {
   "cell_type": "markdown",
   "metadata": {},
   "source": [
    "----"
   ]
  },
  {
   "cell_type": "markdown",
   "metadata": {},
   "source": [
    "# Proyecto final SQL"
   ]
  },
  {
   "cell_type": "markdown",
   "metadata": {},
   "source": [
    "El coronavirus tomó al mundo entero por sorpresa, cambiando la rutina diaria de todos y todas. Los habitantes de las ciudades ya no pasaban su tiempo libre fuera, yendo a cafés y centros comerciales; sino que más gente se quedaba en casa, leyendo libros. Eso atrajo la atención de las startups (empresas emergentes) que se apresuraron a desarrollar nuevas aplicaciones para los amantes de los libros.\n",
    "\n",
    "Te han dado una base de datos de uno de los servicios que compiten en este mercado. Contiene datos sobre libros, editoriales, autores y calificaciones de clientes y reseñas de libros. Esta información se utilizará para generar una propuesta de valor para un nuevo producto.\n"
   ]
  },
  {
   "cell_type": "markdown",
   "metadata": {},
   "source": [
    "# Objetivo del proyecto"
   ]
  },
  {
   "cell_type": "markdown",
   "metadata": {},
   "source": [
    "Nuestra tarea es accesar a la base de datos que se nos ha sifo ofrecida y obtener la información necesario para crear nuevas propuestas para un producto nuevo que se quiere lanzar y así conocer la información necesaria para lograr un éxito con el producto."
   ]
  },
  {
   "cell_type": "markdown",
   "metadata": {},
   "source": [
    "#  Descripción de los datos"
   ]
  },
  {
   "cell_type": "markdown",
   "metadata": {},
   "source": [
    "**`books`**\n",
    "\n",
    "Contiene datos sobre libros:\n",
    "\n",
    "- `book_id`: identificación del libro\n",
    "- `author_id`: identificación del autor o autora\n",
    "- `title`: título\n",
    "- `num_pages`: número de páginas\n",
    "- `publication_date`: fecha de la publicación\n",
    "- `publisher_id`: identificación de la editorial\n",
    "\n",
    "**`authors`**\n",
    "\n",
    "Contiene datos sobre autores:\n",
    "\n",
    "- `author_id`: identificación del autor o autora\n",
    "- `author`: el autor o la autora\n",
    "\n",
    "**`publishers`**\n",
    "\n",
    "Contiene datos sobre editoriales:\n",
    "\n",
    "- `publisher_id`: identificación de la editorial\n",
    "- `publisher`: la editorial\n",
    "\n",
    "**`ratings`**\n",
    "\n",
    "Contiene datos sobre las calificaciones de usuarios:\n",
    "\n",
    "- `rating_id`: identificación de la calificación\n",
    "- `book_id`: identificación del libro\n",
    "- `username`: el nombre del usuario que revisó el libro\n",
    "- `rating`: calificación\n",
    "\n",
    "**`reviews`**\n",
    "\n",
    "Contiene datos sobre las reseñas de los y las clientes:\n",
    "\n",
    "- `review_id`: identificación de la reseña\n",
    "- `book_id`: identificación del libro\n",
    "- `username`: el nombre del usuario que revisó el libro\n",
    "- `text`: el texto de la reseña"
   ]
  },
  {
   "cell_type": "markdown",
   "metadata": {},
   "source": [
    "# Diagrama de datos"
   ]
  },
  {
   "attachments": {
    "Untitled.webp": {
     "image/webp": "[encoded data removed]"
    }
   },
   "cell_type": "markdown",
   "metadata": {},
   "source": [
    "![Untitled.webp](attachment:Untitled.webp)"
   ]
  },
  {
   "cell_type": "markdown",
   "metadata": {},
   "source": [
    "Gracias al diagrama podemos conocer como se realizan los datas para su uso posterior, pero también podemos corroborar si los datos viene en el tipo de dato correcto, en este caso la columna con fechas (\"publication_date\" del data \"books\" viene en el tipo datetime, lo que nos facilita el trabajo al no tener que cambiar su tipo de dato durante las consultas.\n",
    "\n",
    "En general pareciera que todos los datos vienen en el tipo de dato correcto, esto lo comprobaremos al lograr visualizar los datas."
   ]
  },
  {
   "cell_type": "markdown",
   "metadata": {},
   "source": [
    "# Acesso a base de datos SQL"
   ]
  },
  {
   "cell_type": "code",
   "execution_count": 1,
   "metadata": {},
   "outputs": [],
   "source": [
    "# import librarias\n",
    "import pandas as pd\n",
    "from sqlalchemy import create_engine"
   ]
  },
  {
   "cell_type": "code",
   "execution_count": 2,
   "metadata": {},
   "outputs": [],
   "source": [
    "db_config = {'user': 'practicum_student', # usuario\n",
    "             'pwd': 'QnmDH8Sc2TQLvy2G3Vvh7', # password\n",
    "             'host': 'yp-trainers-practicum.cluster-czs0gxyx2d8w.us-east-1.rds.amazonaws.com',\n",
    "             'port': 5432, # portal de conexión\n",
    "             'db': 'data-analyst-final-project-db' # nombre de la base de datos\n",
    "            }"
   ]
  },
  {
   "cell_type": "code",
   "execution_count": 3,
   "metadata": {},
   "outputs": [],
   "source": [
    "connection_string = 'postgresql://{}:{}@{}:{}/{}'.format(db_config['user'],db_config['pwd'],db_config['host'],db_config['port'],db_config['db'])"
   ]
  },
  {
   "cell_type": "code",
   "execution_count": 4,
   "metadata": {},
   "outputs": [],
   "source": [
    "#variable para guardar base de datos\n",
    "engine = create_engine(connection_string, connect_args={'sslmode':'require'})"
   ]
  },
  {
   "cell_type": "code",
   "execution_count": 5,
   "metadata": {},
   "outputs": [],
   "source": [
    "#variable para abrir data books\n",
    "books= 'SELECT* FROM BOOKS  LIMIT 10'"
   ]
  },
  {
   "cell_type": "code",
   "execution_count": 6,
   "metadata": {},
   "outputs": [
    {
     "data": {
      "text/html": [
       "<div>\n",
       "<style scoped>\n",
       "    .dataframe tbody tr th:only-of-type {\n",
       "        vertical-align: middle;\n",
       "    }\n",
       "\n",
       "    .dataframe tbody tr th {\n",
       "        vertical-align: top;\n",
       "    }\n",
       "\n",
       "    .dataframe thead th {\n",
       "        text-align: right;\n",
       "    }\n",
       "</style>\n",
       "<table border=\"1\" class=\"dataframe\">\n",
       "  <thead>\n",
       "    <tr style=\"text-align: right;\">\n",
       "      <th></th>\n",
       "      <th>book_id</th>\n",
       "      <th>author_id</th>\n",
       "      <th>title</th>\n",
       "      <th>num_pages</th>\n",
       "      <th>publication_date</th>\n",
       "      <th>publisher_id</th>\n",
       "    </tr>\n",
       "  </thead>\n",
       "  <tbody>\n",
       "    <tr>\n",
       "      <th>0</th>\n",
       "      <td>1</td>\n",
       "      <td>546</td>\n",
       "      <td>'Salem's Lot</td>\n",
       "      <td>594</td>\n",
       "      <td>2005-11-01</td>\n",
       "      <td>93</td>\n",
       "    </tr>\n",
       "    <tr>\n",
       "      <th>1</th>\n",
       "      <td>2</td>\n",
       "      <td>465</td>\n",
       "      <td>1 000 Places to See Before You Die</td>\n",
       "      <td>992</td>\n",
       "      <td>2003-05-22</td>\n",
       "      <td>336</td>\n",
       "    </tr>\n",
       "    <tr>\n",
       "      <th>2</th>\n",
       "      <td>3</td>\n",
       "      <td>407</td>\n",
       "      <td>13 Little Blue Envelopes (Little Blue Envelope...</td>\n",
       "      <td>322</td>\n",
       "      <td>2010-12-21</td>\n",
       "      <td>135</td>\n",
       "    </tr>\n",
       "    <tr>\n",
       "      <th>3</th>\n",
       "      <td>4</td>\n",
       "      <td>82</td>\n",
       "      <td>1491: New Revelations of the Americas Before C...</td>\n",
       "      <td>541</td>\n",
       "      <td>2006-10-10</td>\n",
       "      <td>309</td>\n",
       "    </tr>\n",
       "    <tr>\n",
       "      <th>4</th>\n",
       "      <td>5</td>\n",
       "      <td>125</td>\n",
       "      <td>1776</td>\n",
       "      <td>386</td>\n",
       "      <td>2006-07-04</td>\n",
       "      <td>268</td>\n",
       "    </tr>\n",
       "    <tr>\n",
       "      <th>5</th>\n",
       "      <td>6</td>\n",
       "      <td>257</td>\n",
       "      <td>1st to Die (Women's Murder Club  #1)</td>\n",
       "      <td>424</td>\n",
       "      <td>2005-05-20</td>\n",
       "      <td>116</td>\n",
       "    </tr>\n",
       "    <tr>\n",
       "      <th>6</th>\n",
       "      <td>7</td>\n",
       "      <td>258</td>\n",
       "      <td>2nd Chance (Women's Murder Club  #2)</td>\n",
       "      <td>400</td>\n",
       "      <td>2005-05-20</td>\n",
       "      <td>116</td>\n",
       "    </tr>\n",
       "    <tr>\n",
       "      <th>7</th>\n",
       "      <td>8</td>\n",
       "      <td>260</td>\n",
       "      <td>4th of July (Women's Murder Club  #4)</td>\n",
       "      <td>448</td>\n",
       "      <td>2006-06-01</td>\n",
       "      <td>318</td>\n",
       "    </tr>\n",
       "    <tr>\n",
       "      <th>8</th>\n",
       "      <td>9</td>\n",
       "      <td>563</td>\n",
       "      <td>A Beautiful Mind</td>\n",
       "      <td>461</td>\n",
       "      <td>2002-02-04</td>\n",
       "      <td>104</td>\n",
       "    </tr>\n",
       "    <tr>\n",
       "      <th>9</th>\n",
       "      <td>10</td>\n",
       "      <td>445</td>\n",
       "      <td>A Bend in the Road</td>\n",
       "      <td>341</td>\n",
       "      <td>2005-04-01</td>\n",
       "      <td>116</td>\n",
       "    </tr>\n",
       "  </tbody>\n",
       "</table>\n",
       "</div>"
      ],
      "text/plain": [
       "   book_id  author_id                                              title  \\\n",
       "0        1        546                                       'Salem's Lot   \n",
       "1        2        465                 1 000 Places to See Before You Die   \n",
       "2        3        407  13 Little Blue Envelopes (Little Blue Envelope...   \n",
       "3        4         82  1491: New Revelations of the Americas Before C...   \n",
       "4        5        125                                               1776   \n",
       "5        6        257               1st to Die (Women's Murder Club  #1)   \n",
       "6        7        258               2nd Chance (Women's Murder Club  #2)   \n",
       "7        8        260              4th of July (Women's Murder Club  #4)   \n",
       "8        9        563                                   A Beautiful Mind   \n",
       "9       10        445                                 A Bend in the Road   \n",
       "\n",
       "   num_pages publication_date  publisher_id  \n",
       "0        594       2005-11-01            93  \n",
       "1        992       2003-05-22           336  \n",
       "2        322       2010-12-21           135  \n",
       "3        541       2006-10-10           309  \n",
       "4        386       2006-07-04           268  \n",
       "5        424       2005-05-20           116  \n",
       "6        400       2005-05-20           116  \n",
       "7        448       2006-06-01           318  \n",
       "8        461       2002-02-04           104  \n",
       "9        341       2005-04-01           116  "
      ]
     },
     "execution_count": 6,
     "metadata": {},
     "output_type": "execute_result"
    }
   ],
   "source": [
    "#ejecutar una consulta con SQL en python\n",
    "pd.io.sql.read_sql(books, con = engine)"
   ]
  },
  {
   "cell_type": "code",
   "execution_count": 7,
   "metadata": {},
   "outputs": [],
   "source": [
    "#variable para abrir data authors\n",
    "authors= 'SELECT* FROM AUTHORS LIMIT 10'"
   ]
  },
  {
   "cell_type": "code",
   "execution_count": 8,
   "metadata": {},
   "outputs": [
    {
     "data": {
      "text/html": [
       "<div>\n",
       "<style scoped>\n",
       "    .dataframe tbody tr th:only-of-type {\n",
       "        vertical-align: middle;\n",
       "    }\n",
       "\n",
       "    .dataframe tbody tr th {\n",
       "        vertical-align: top;\n",
       "    }\n",
       "\n",
       "    .dataframe thead th {\n",
       "        text-align: right;\n",
       "    }\n",
       "</style>\n",
       "<table border=\"1\" class=\"dataframe\">\n",
       "  <thead>\n",
       "    <tr style=\"text-align: right;\">\n",
       "      <th></th>\n",
       "      <th>author_id</th>\n",
       "      <th>author</th>\n",
       "    </tr>\n",
       "  </thead>\n",
       "  <tbody>\n",
       "    <tr>\n",
       "      <th>0</th>\n",
       "      <td>1</td>\n",
       "      <td>A.S. Byatt</td>\n",
       "    </tr>\n",
       "    <tr>\n",
       "      <th>1</th>\n",
       "      <td>2</td>\n",
       "      <td>Aesop/Laura Harris/Laura Gibbs</td>\n",
       "    </tr>\n",
       "    <tr>\n",
       "      <th>2</th>\n",
       "      <td>3</td>\n",
       "      <td>Agatha Christie</td>\n",
       "    </tr>\n",
       "    <tr>\n",
       "      <th>3</th>\n",
       "      <td>4</td>\n",
       "      <td>Alan Brennert</td>\n",
       "    </tr>\n",
       "    <tr>\n",
       "      <th>4</th>\n",
       "      <td>5</td>\n",
       "      <td>Alan Moore/David   Lloyd</td>\n",
       "    </tr>\n",
       "    <tr>\n",
       "      <th>5</th>\n",
       "      <td>6</td>\n",
       "      <td>Alan Paton</td>\n",
       "    </tr>\n",
       "    <tr>\n",
       "      <th>6</th>\n",
       "      <td>7</td>\n",
       "      <td>Albert Camus/Justin O'Brien</td>\n",
       "    </tr>\n",
       "    <tr>\n",
       "      <th>7</th>\n",
       "      <td>8</td>\n",
       "      <td>Aldous Huxley</td>\n",
       "    </tr>\n",
       "    <tr>\n",
       "      <th>8</th>\n",
       "      <td>9</td>\n",
       "      <td>Aldous Huxley/Christopher Hitchens</td>\n",
       "    </tr>\n",
       "    <tr>\n",
       "      <th>9</th>\n",
       "      <td>10</td>\n",
       "      <td>Aleksandr Solzhenitsyn/H.T. Willetts</td>\n",
       "    </tr>\n",
       "  </tbody>\n",
       "</table>\n",
       "</div>"
      ],
      "text/plain": [
       "   author_id                                author\n",
       "0          1                            A.S. Byatt\n",
       "1          2        Aesop/Laura Harris/Laura Gibbs\n",
       "2          3                       Agatha Christie\n",
       "3          4                         Alan Brennert\n",
       "4          5              Alan Moore/David   Lloyd\n",
       "5          6                            Alan Paton\n",
       "6          7           Albert Camus/Justin O'Brien\n",
       "7          8                         Aldous Huxley\n",
       "8          9    Aldous Huxley/Christopher Hitchens\n",
       "9         10  Aleksandr Solzhenitsyn/H.T. Willetts"
      ]
     },
     "execution_count": 8,
     "metadata": {},
     "output_type": "execute_result"
    }
   ],
   "source": [
    "#ejecutar una consulta con SQL en python\n",
    "pd.io.sql.read_sql(authors, con = engine)"
   ]
  },
  {
   "cell_type": "code",
   "execution_count": 9,
   "metadata": {},
   "outputs": [],
   "source": [
    "#variable para abrir data publishers\n",
    "publishers= 'SELECT* FROM PUBLISHERS LIMIT 5'"
   ]
  },
  {
   "cell_type": "code",
   "execution_count": 10,
   "metadata": {},
   "outputs": [
    {
     "data": {
      "text/html": [
       "<div>\n",
       "<style scoped>\n",
       "    .dataframe tbody tr th:only-of-type {\n",
       "        vertical-align: middle;\n",
       "    }\n",
       "\n",
       "    .dataframe tbody tr th {\n",
       "        vertical-align: top;\n",
       "    }\n",
       "\n",
       "    .dataframe thead th {\n",
       "        text-align: right;\n",
       "    }\n",
       "</style>\n",
       "<table border=\"1\" class=\"dataframe\">\n",
       "  <thead>\n",
       "    <tr style=\"text-align: right;\">\n",
       "      <th></th>\n",
       "      <th>publisher_id</th>\n",
       "      <th>publisher</th>\n",
       "    </tr>\n",
       "  </thead>\n",
       "  <tbody>\n",
       "    <tr>\n",
       "      <th>0</th>\n",
       "      <td>1</td>\n",
       "      <td>Ace</td>\n",
       "    </tr>\n",
       "    <tr>\n",
       "      <th>1</th>\n",
       "      <td>2</td>\n",
       "      <td>Ace Book</td>\n",
       "    </tr>\n",
       "    <tr>\n",
       "      <th>2</th>\n",
       "      <td>3</td>\n",
       "      <td>Ace Books</td>\n",
       "    </tr>\n",
       "    <tr>\n",
       "      <th>3</th>\n",
       "      <td>4</td>\n",
       "      <td>Ace Hardcover</td>\n",
       "    </tr>\n",
       "    <tr>\n",
       "      <th>4</th>\n",
       "      <td>5</td>\n",
       "      <td>Addison Wesley Publishing Company</td>\n",
       "    </tr>\n",
       "  </tbody>\n",
       "</table>\n",
       "</div>"
      ],
      "text/plain": [
       "   publisher_id                          publisher\n",
       "0             1                                Ace\n",
       "1             2                           Ace Book\n",
       "2             3                          Ace Books\n",
       "3             4                      Ace Hardcover\n",
       "4             5  Addison Wesley Publishing Company"
      ]
     },
     "execution_count": 10,
     "metadata": {},
     "output_type": "execute_result"
    }
   ],
   "source": [
    "#ejecutar una consulta con SQL en python\n",
    "pd.io.sql.read_sql(publishers, con = engine)"
   ]
  },
  {
   "cell_type": "code",
   "execution_count": 11,
   "metadata": {},
   "outputs": [],
   "source": [
    "#variable para abrir data ratings\n",
    "rating= 'SELECT* FROM RATINGS LIMIT 5'"
   ]
  },
  {
   "cell_type": "code",
   "execution_count": 12,
   "metadata": {},
   "outputs": [
    {
     "data": {
      "text/html": [
       "<div>\n",
       "<style scoped>\n",
       "    .dataframe tbody tr th:only-of-type {\n",
       "        vertical-align: middle;\n",
       "    }\n",
       "\n",
       "    .dataframe tbody tr th {\n",
       "        vertical-align: top;\n",
       "    }\n",
       "\n",
       "    .dataframe thead th {\n",
       "        text-align: right;\n",
       "    }\n",
       "</style>\n",
       "<table border=\"1\" class=\"dataframe\">\n",
       "  <thead>\n",
       "    <tr style=\"text-align: right;\">\n",
       "      <th></th>\n",
       "      <th>rating_id</th>\n",
       "      <th>book_id</th>\n",
       "      <th>username</th>\n",
       "      <th>rating</th>\n",
       "    </tr>\n",
       "  </thead>\n",
       "  <tbody>\n",
       "    <tr>\n",
       "      <th>0</th>\n",
       "      <td>1</td>\n",
       "      <td>1</td>\n",
       "      <td>ryanfranco</td>\n",
       "      <td>4</td>\n",
       "    </tr>\n",
       "    <tr>\n",
       "      <th>1</th>\n",
       "      <td>2</td>\n",
       "      <td>1</td>\n",
       "      <td>grantpatricia</td>\n",
       "      <td>2</td>\n",
       "    </tr>\n",
       "    <tr>\n",
       "      <th>2</th>\n",
       "      <td>3</td>\n",
       "      <td>1</td>\n",
       "      <td>brandtandrea</td>\n",
       "      <td>5</td>\n",
       "    </tr>\n",
       "    <tr>\n",
       "      <th>3</th>\n",
       "      <td>4</td>\n",
       "      <td>2</td>\n",
       "      <td>lorichen</td>\n",
       "      <td>3</td>\n",
       "    </tr>\n",
       "    <tr>\n",
       "      <th>4</th>\n",
       "      <td>5</td>\n",
       "      <td>2</td>\n",
       "      <td>mariokeller</td>\n",
       "      <td>2</td>\n",
       "    </tr>\n",
       "  </tbody>\n",
       "</table>\n",
       "</div>"
      ],
      "text/plain": [
       "   rating_id  book_id       username  rating\n",
       "0          1        1     ryanfranco       4\n",
       "1          2        1  grantpatricia       2\n",
       "2          3        1   brandtandrea       5\n",
       "3          4        2       lorichen       3\n",
       "4          5        2    mariokeller       2"
      ]
     },
     "execution_count": 12,
     "metadata": {},
     "output_type": "execute_result"
    }
   ],
   "source": [
    "#ejecutar una consulta con SQL en python\n",
    "pd.io.sql.read_sql(rating, con = engine)"
   ]
  },
  {
   "cell_type": "code",
   "execution_count": 13,
   "metadata": {},
   "outputs": [],
   "source": [
    "#variable para abrir data reviews\n",
    "reviews= 'SELECT* FROM REVIEWS LIMIT 5'"
   ]
  },
  {
   "cell_type": "code",
   "execution_count": 14,
   "metadata": {},
   "outputs": [
    {
     "data": {
      "text/html": [
       "<div>\n",
       "<style scoped>\n",
       "    .dataframe tbody tr th:only-of-type {\n",
       "        vertical-align: middle;\n",
       "    }\n",
       "\n",
       "    .dataframe tbody tr th {\n",
       "        vertical-align: top;\n",
       "    }\n",
       "\n",
       "    .dataframe thead th {\n",
       "        text-align: right;\n",
       "    }\n",
       "</style>\n",
       "<table border=\"1\" class=\"dataframe\">\n",
       "  <thead>\n",
       "    <tr style=\"text-align: right;\">\n",
       "      <th></th>\n",
       "      <th>review_id</th>\n",
       "      <th>book_id</th>\n",
       "      <th>username</th>\n",
       "      <th>text</th>\n",
       "    </tr>\n",
       "  </thead>\n",
       "  <tbody>\n",
       "    <tr>\n",
       "      <th>0</th>\n",
       "      <td>1</td>\n",
       "      <td>1</td>\n",
       "      <td>brandtandrea</td>\n",
       "      <td>Mention society tell send professor analysis. ...</td>\n",
       "    </tr>\n",
       "    <tr>\n",
       "      <th>1</th>\n",
       "      <td>2</td>\n",
       "      <td>1</td>\n",
       "      <td>ryanfranco</td>\n",
       "      <td>Foot glass pretty audience hit themselves. Amo...</td>\n",
       "    </tr>\n",
       "    <tr>\n",
       "      <th>2</th>\n",
       "      <td>3</td>\n",
       "      <td>2</td>\n",
       "      <td>lorichen</td>\n",
       "      <td>Listen treat keep worry. Miss husband tax but ...</td>\n",
       "    </tr>\n",
       "    <tr>\n",
       "      <th>3</th>\n",
       "      <td>4</td>\n",
       "      <td>3</td>\n",
       "      <td>johnsonamanda</td>\n",
       "      <td>Finally month interesting blue could nature cu...</td>\n",
       "    </tr>\n",
       "    <tr>\n",
       "      <th>4</th>\n",
       "      <td>5</td>\n",
       "      <td>3</td>\n",
       "      <td>scotttamara</td>\n",
       "      <td>Nation purpose heavy give wait song will. List...</td>\n",
       "    </tr>\n",
       "  </tbody>\n",
       "</table>\n",
       "</div>"
      ],
      "text/plain": [
       "   review_id  book_id       username  \\\n",
       "0          1        1   brandtandrea   \n",
       "1          2        1     ryanfranco   \n",
       "2          3        2       lorichen   \n",
       "3          4        3  johnsonamanda   \n",
       "4          5        3    scotttamara   \n",
       "\n",
       "                                                text  \n",
       "0  Mention society tell send professor analysis. ...  \n",
       "1  Foot glass pretty audience hit themselves. Amo...  \n",
       "2  Listen treat keep worry. Miss husband tax but ...  \n",
       "3  Finally month interesting blue could nature cu...  \n",
       "4  Nation purpose heavy give wait song will. List...  "
      ]
     },
     "execution_count": 14,
     "metadata": {},
     "output_type": "execute_result"
    }
   ],
   "source": [
    "#ejecutar una consulta con SQL en python\n",
    "pd.io.sql.read_sql(reviews, con = engine)"
   ]
  },
  {
   "cell_type": "markdown",
   "metadata": {},
   "source": [
    "# Consultas SQL"
   ]
  },
  {
   "cell_type": "markdown",
   "metadata": {},
   "source": [
    "Para esta sección respionderemos las 5 sonsultas deseadas por el cliente, con la finalidad de que los resultados obtenidos sean utilizados para generar una mejor propuesta para el nuevo producto a lanzar por la compañia."
   ]
  },
  {
   "cell_type": "code",
   "execution_count": 15,
   "metadata": {},
   "outputs": [],
   "source": [
    "#Encuentra el número de libros publicados después del 1 de enero de 2000.\n",
    "number_books= \"\"\"\n",
    "SELECT COUNT(BOOK_ID) AS BOOKS_CNT \n",
    "FROM BOOKS \n",
    "WHERE PUBLICATION_DATE > '2000-01-01'; \"\"\""
   ]
  },
  {
   "cell_type": "code",
   "execution_count": 16,
   "metadata": {},
   "outputs": [
    {
     "data": {
      "text/html": [
       "<div>\n",
       "<style scoped>\n",
       "    .dataframe tbody tr th:only-of-type {\n",
       "        vertical-align: middle;\n",
       "    }\n",
       "\n",
       "    .dataframe tbody tr th {\n",
       "        vertical-align: top;\n",
       "    }\n",
       "\n",
       "    .dataframe thead th {\n",
       "        text-align: right;\n",
       "    }\n",
       "</style>\n",
       "<table border=\"1\" class=\"dataframe\">\n",
       "  <thead>\n",
       "    <tr style=\"text-align: right;\">\n",
       "      <th></th>\n",
       "      <th>books_cnt</th>\n",
       "    </tr>\n",
       "  </thead>\n",
       "  <tbody>\n",
       "    <tr>\n",
       "      <th>0</th>\n",
       "      <td>819</td>\n",
       "    </tr>\n",
       "  </tbody>\n",
       "</table>\n",
       "</div>"
      ],
      "text/plain": [
       "   books_cnt\n",
       "0        819"
      ]
     },
     "execution_count": 16,
     "metadata": {},
     "output_type": "execute_result"
    }
   ],
   "source": [
    "#ejecutar una consulta con SQL en python\n",
    "pd.io.sql.read_sql(number_books, con = engine)"
   ]
  },
  {
   "cell_type": "markdown",
   "metadata": {},
   "source": [
    "Se han registrado 819 libros desde inicios de los 2000 en esta base de datos."
   ]
  },
  {
   "cell_type": "code",
   "execution_count": 17,
   "metadata": {},
   "outputs": [],
   "source": [
    "#Encuentra el número de reseñas de usuarios y la calificación promedio para cada libro.\n",
    "total_reviews= total_reviews= \"\"\"\n",
    "SELECT TITLE, \n",
    "SUM(REVIEW_ID) AS TOTAL_RESEÑAS, \n",
    "AVG(RATING) AS CALIF_PROMEDIO\n",
    "FROM BOOKS\n",
    "JOIN REVIEWS ON BOOKS.BOOK_ID = REVIEWS.BOOK_ID\n",
    "JOIN RATINGS ON BOOKS.BOOK_ID = RATINGS.BOOK_ID\n",
    "GROUP BY TITLE; \"\"\""
   ]
  },
  {
   "cell_type": "code",
   "execution_count": 18,
   "metadata": {},
   "outputs": [
    {
     "data": {
      "text/html": [
       "<div>\n",
       "<style scoped>\n",
       "    .dataframe tbody tr th:only-of-type {\n",
       "        vertical-align: middle;\n",
       "    }\n",
       "\n",
       "    .dataframe tbody tr th {\n",
       "        vertical-align: top;\n",
       "    }\n",
       "\n",
       "    .dataframe thead th {\n",
       "        text-align: right;\n",
       "    }\n",
       "</style>\n",
       "<table border=\"1\" class=\"dataframe\">\n",
       "  <thead>\n",
       "    <tr style=\"text-align: right;\">\n",
       "      <th></th>\n",
       "      <th>title</th>\n",
       "      <th>total_reseÑas</th>\n",
       "      <th>calif_promedio</th>\n",
       "    </tr>\n",
       "  </thead>\n",
       "  <tbody>\n",
       "    <tr>\n",
       "      <th>0</th>\n",
       "      <td>The Count of Monte Cristo</td>\n",
       "      <td>219420</td>\n",
       "      <td>4.217391</td>\n",
       "    </tr>\n",
       "    <tr>\n",
       "      <th>1</th>\n",
       "      <td>Count Zero (Sprawl  #2)</td>\n",
       "      <td>1818</td>\n",
       "      <td>2.500000</td>\n",
       "    </tr>\n",
       "    <tr>\n",
       "      <th>2</th>\n",
       "      <td>The Botany of Desire: A Plant's-Eye View of th...</td>\n",
       "      <td>7290</td>\n",
       "      <td>3.500000</td>\n",
       "    </tr>\n",
       "    <tr>\n",
       "      <th>3</th>\n",
       "      <td>The Poisonwood Bible</td>\n",
       "      <td>253880</td>\n",
       "      <td>4.363636</td>\n",
       "    </tr>\n",
       "    <tr>\n",
       "      <th>4</th>\n",
       "      <td>The Canterbury Tales</td>\n",
       "      <td>33246</td>\n",
       "      <td>3.333333</td>\n",
       "    </tr>\n",
       "    <tr>\n",
       "      <th>...</th>\n",
       "      <td>...</td>\n",
       "      <td>...</td>\n",
       "      <td>...</td>\n",
       "    </tr>\n",
       "    <tr>\n",
       "      <th>988</th>\n",
       "      <td>Of Love and Other Demons</td>\n",
       "      <td>5382</td>\n",
       "      <td>4.500000</td>\n",
       "    </tr>\n",
       "    <tr>\n",
       "      <th>989</th>\n",
       "      <td>In the Heart of the Sea: The Tragedy of the Wh...</td>\n",
       "      <td>8442</td>\n",
       "      <td>3.333333</td>\n",
       "    </tr>\n",
       "    <tr>\n",
       "      <th>990</th>\n",
       "      <td>Welcome to Temptation (Dempseys  #1)</td>\n",
       "      <td>10822</td>\n",
       "      <td>5.000000</td>\n",
       "    </tr>\n",
       "    <tr>\n",
       "      <th>991</th>\n",
       "      <td>World's End (The Sandman  #8)</td>\n",
       "      <td>11106</td>\n",
       "      <td>4.500000</td>\n",
       "    </tr>\n",
       "    <tr>\n",
       "      <th>992</th>\n",
       "      <td>Holes (Holes  #1)</td>\n",
       "      <td>134695</td>\n",
       "      <td>3.967742</td>\n",
       "    </tr>\n",
       "  </tbody>\n",
       "</table>\n",
       "<p>993 rows × 3 columns</p>\n",
       "</div>"
      ],
      "text/plain": [
       "                                                 title  total_reseÑas  \\\n",
       "0                            The Count of Monte Cristo         219420   \n",
       "1                              Count Zero (Sprawl  #2)           1818   \n",
       "2    The Botany of Desire: A Plant's-Eye View of th...           7290   \n",
       "3                                 The Poisonwood Bible         253880   \n",
       "4                                 The Canterbury Tales          33246   \n",
       "..                                                 ...            ...   \n",
       "988                           Of Love and Other Demons           5382   \n",
       "989  In the Heart of the Sea: The Tragedy of the Wh...           8442   \n",
       "990               Welcome to Temptation (Dempseys  #1)          10822   \n",
       "991                      World's End (The Sandman  #8)          11106   \n",
       "992                                  Holes (Holes  #1)         134695   \n",
       "\n",
       "     calif_promedio  \n",
       "0          4.217391  \n",
       "1          2.500000  \n",
       "2          3.500000  \n",
       "3          4.363636  \n",
       "4          3.333333  \n",
       "..              ...  \n",
       "988        4.500000  \n",
       "989        3.333333  \n",
       "990        5.000000  \n",
       "991        4.500000  \n",
       "992        3.967742  \n",
       "\n",
       "[993 rows x 3 columns]"
      ]
     },
     "execution_count": 18,
     "metadata": {},
     "output_type": "execute_result"
    }
   ],
   "source": [
    "#ejecutar una consulta con SQL en python\n",
    "pd.io.sql.read_sql(total_reviews, con = engine)"
   ]
  },
  {
   "cell_type": "markdown",
   "metadata": {},
   "source": [
    "El número de reseñas varia demasiado entre cada título al igual que la calificación promedio que se le fue otorgada.\n",
    "\n",
    "Visto de forma general no conocemos el género, ni autor, ni año de lanzamiento de los libros por lo cual solo podemos saber porque la diferencia en estos datos."
   ]
  },
  {
   "cell_type": "code",
   "execution_count": 19,
   "metadata": {},
   "outputs": [],
   "source": [
    "#Identifica la editorial que ha publicado el mayor número de libros con más de 50 páginas \n",
    "#(esto te ayudará a excluir folletos y publicaciones similares de tu análisis).\n",
    "top_publisher= '''\n",
    "SELECT PUBLISHER,\n",
    "COUNT(BOOK_ID) AS TOTAL_PUBLICATIONS\n",
    "FROM PUBLISHERS \n",
    "JOIN BOOKS  ON PUBLISHERS.PUBLISHER_ID = BOOKS.PUBLISHER_ID  \n",
    "WHERE NUM_PAGES > 49  \n",
    "GROUP BY PUBLISHER  \n",
    "ORDER BY TOTAL_PUBLICATIONS DESC; '''"
   ]
  },
  {
   "cell_type": "code",
   "execution_count": 20,
   "metadata": {},
   "outputs": [
    {
     "data": {
      "text/html": [
       "<div>\n",
       "<style scoped>\n",
       "    .dataframe tbody tr th:only-of-type {\n",
       "        vertical-align: middle;\n",
       "    }\n",
       "\n",
       "    .dataframe tbody tr th {\n",
       "        vertical-align: top;\n",
       "    }\n",
       "\n",
       "    .dataframe thead th {\n",
       "        text-align: right;\n",
       "    }\n",
       "</style>\n",
       "<table border=\"1\" class=\"dataframe\">\n",
       "  <thead>\n",
       "    <tr style=\"text-align: right;\">\n",
       "      <th></th>\n",
       "      <th>publisher</th>\n",
       "      <th>total_publications</th>\n",
       "    </tr>\n",
       "  </thead>\n",
       "  <tbody>\n",
       "    <tr>\n",
       "      <th>0</th>\n",
       "      <td>Penguin Books</td>\n",
       "      <td>42</td>\n",
       "    </tr>\n",
       "    <tr>\n",
       "      <th>1</th>\n",
       "      <td>Vintage</td>\n",
       "      <td>31</td>\n",
       "    </tr>\n",
       "    <tr>\n",
       "      <th>2</th>\n",
       "      <td>Grand Central Publishing</td>\n",
       "      <td>25</td>\n",
       "    </tr>\n",
       "    <tr>\n",
       "      <th>3</th>\n",
       "      <td>Penguin Classics</td>\n",
       "      <td>24</td>\n",
       "    </tr>\n",
       "    <tr>\n",
       "      <th>4</th>\n",
       "      <td>Ballantine Books</td>\n",
       "      <td>19</td>\n",
       "    </tr>\n",
       "    <tr>\n",
       "      <th>...</th>\n",
       "      <td>...</td>\n",
       "      <td>...</td>\n",
       "    </tr>\n",
       "    <tr>\n",
       "      <th>329</th>\n",
       "      <td>Turtleback</td>\n",
       "      <td>1</td>\n",
       "    </tr>\n",
       "    <tr>\n",
       "      <th>330</th>\n",
       "      <td>Atheneum Books for Young Readers: Richard Jack...</td>\n",
       "      <td>1</td>\n",
       "    </tr>\n",
       "    <tr>\n",
       "      <th>331</th>\n",
       "      <td>Penguin Signet</td>\n",
       "      <td>1</td>\n",
       "    </tr>\n",
       "    <tr>\n",
       "      <th>332</th>\n",
       "      <td>Victor Gollancz</td>\n",
       "      <td>1</td>\n",
       "    </tr>\n",
       "    <tr>\n",
       "      <th>333</th>\n",
       "      <td>Harvard Business Review Press</td>\n",
       "      <td>1</td>\n",
       "    </tr>\n",
       "  </tbody>\n",
       "</table>\n",
       "<p>334 rows × 2 columns</p>\n",
       "</div>"
      ],
      "text/plain": [
       "                                             publisher  total_publications\n",
       "0                                        Penguin Books                  42\n",
       "1                                              Vintage                  31\n",
       "2                             Grand Central Publishing                  25\n",
       "3                                     Penguin Classics                  24\n",
       "4                                     Ballantine Books                  19\n",
       "..                                                 ...                 ...\n",
       "329                                         Turtleback                   1\n",
       "330  Atheneum Books for Young Readers: Richard Jack...                   1\n",
       "331                                     Penguin Signet                   1\n",
       "332                                    Victor Gollancz                   1\n",
       "333                      Harvard Business Review Press                   1\n",
       "\n",
       "[334 rows x 2 columns]"
      ]
     },
     "execution_count": 20,
     "metadata": {},
     "output_type": "execute_result"
    }
   ],
   "source": [
    "#ejecutar una consulta con SQL en python\n",
    "pd.io.sql.read_sql(top_publisher, con = engine)"
   ]
  },
  {
   "cell_type": "markdown",
   "metadata": {},
   "source": [
    "La editorial \"Penguin Books\" es aquella con 42 libros publicados con más de 50 páginas, concluyendo que si son libros y no ediciones más pequeñas.\n",
    "Será necesari conocer que libros fueron los publicados y su calificación para conocer si han sido buenos éxitos o solo ha publicado la mayor cantidad de libros sin impacto en la audiencia."
   ]
  },
  {
   "cell_type": "code",
   "execution_count": 21,
   "metadata": {},
   "outputs": [],
   "source": [
    "#Identifica al autor que tiene la más alta calificación promedio del libro: mira solo los libros con al menos 50 calificaciones.\n",
    "top_author= \"\"\"\n",
    "SELECT AUTHOR,\n",
    "AVG(RATINGS.RATING) AS CALIFICACION_PROMEDIO                \n",
    "FROM BOOKS\n",
    "JOIN AUTHORS ON BOOKS.AUTHOR_ID = AUTHORS.AUTHOR_ID\n",
    "JOIN RATINGS ON BOOKS.BOOK_ID = RATINGS.BOOK_ID\n",
    "GROUP BY AUTHOR\n",
    "HAVING COUNT(RATINGS.RATING) >= 50\n",
    "ORDER BY CALIFICACION_PROMEDIO DESC;\n",
    "\"\"\""
   ]
  },
  {
   "cell_type": "code",
   "execution_count": 22,
   "metadata": {},
   "outputs": [
    {
     "data": {
      "text/html": [
       "<div>\n",
       "<style scoped>\n",
       "    .dataframe tbody tr th:only-of-type {\n",
       "        vertical-align: middle;\n",
       "    }\n",
       "\n",
       "    .dataframe tbody tr th {\n",
       "        vertical-align: top;\n",
       "    }\n",
       "\n",
       "    .dataframe thead th {\n",
       "        text-align: right;\n",
       "    }\n",
       "</style>\n",
       "<table border=\"1\" class=\"dataframe\">\n",
       "  <thead>\n",
       "    <tr style=\"text-align: right;\">\n",
       "      <th></th>\n",
       "      <th>author</th>\n",
       "      <th>calificacion_promedio</th>\n",
       "    </tr>\n",
       "  </thead>\n",
       "  <tbody>\n",
       "    <tr>\n",
       "      <th>0</th>\n",
       "      <td>Diana Gabaldon</td>\n",
       "      <td>4.300000</td>\n",
       "    </tr>\n",
       "    <tr>\n",
       "      <th>1</th>\n",
       "      <td>J.K. Rowling/Mary GrandPré</td>\n",
       "      <td>4.288462</td>\n",
       "    </tr>\n",
       "    <tr>\n",
       "      <th>2</th>\n",
       "      <td>Agatha Christie</td>\n",
       "      <td>4.283019</td>\n",
       "    </tr>\n",
       "    <tr>\n",
       "      <th>3</th>\n",
       "      <td>Markus Zusak/Cao Xuân Việt Khương</td>\n",
       "      <td>4.264151</td>\n",
       "    </tr>\n",
       "    <tr>\n",
       "      <th>4</th>\n",
       "      <td>J.R.R. Tolkien</td>\n",
       "      <td>4.240964</td>\n",
       "    </tr>\n",
       "    <tr>\n",
       "      <th>5</th>\n",
       "      <td>Roald Dahl/Quentin Blake</td>\n",
       "      <td>4.209677</td>\n",
       "    </tr>\n",
       "    <tr>\n",
       "      <th>6</th>\n",
       "      <td>Louisa May Alcott</td>\n",
       "      <td>4.203704</td>\n",
       "    </tr>\n",
       "    <tr>\n",
       "      <th>7</th>\n",
       "      <td>Rick Riordan</td>\n",
       "      <td>4.130952</td>\n",
       "    </tr>\n",
       "    <tr>\n",
       "      <th>8</th>\n",
       "      <td>Arthur Golden</td>\n",
       "      <td>4.107143</td>\n",
       "    </tr>\n",
       "    <tr>\n",
       "      <th>9</th>\n",
       "      <td>Stephen King</td>\n",
       "      <td>4.009434</td>\n",
       "    </tr>\n",
       "    <tr>\n",
       "      <th>10</th>\n",
       "      <td>John Grisham</td>\n",
       "      <td>3.971429</td>\n",
       "    </tr>\n",
       "    <tr>\n",
       "      <th>11</th>\n",
       "      <td>William Golding</td>\n",
       "      <td>3.901408</td>\n",
       "    </tr>\n",
       "    <tr>\n",
       "      <th>12</th>\n",
       "      <td>Nicholas Sparks</td>\n",
       "      <td>3.882883</td>\n",
       "    </tr>\n",
       "    <tr>\n",
       "      <th>13</th>\n",
       "      <td>Jodi Picoult</td>\n",
       "      <td>3.881579</td>\n",
       "    </tr>\n",
       "    <tr>\n",
       "      <th>14</th>\n",
       "      <td>Sophie Kinsella</td>\n",
       "      <td>3.877193</td>\n",
       "    </tr>\n",
       "    <tr>\n",
       "      <th>15</th>\n",
       "      <td>James Patterson</td>\n",
       "      <td>3.859375</td>\n",
       "    </tr>\n",
       "    <tr>\n",
       "      <th>16</th>\n",
       "      <td>J.D. Salinger</td>\n",
       "      <td>3.846939</td>\n",
       "    </tr>\n",
       "    <tr>\n",
       "      <th>17</th>\n",
       "      <td>Paulo Coelho/Alan R. Clarke/Özdemir İnce</td>\n",
       "      <td>3.789474</td>\n",
       "    </tr>\n",
       "    <tr>\n",
       "      <th>18</th>\n",
       "      <td>William Shakespeare/Paul Werstine/Barbara A. M...</td>\n",
       "      <td>3.787879</td>\n",
       "    </tr>\n",
       "    <tr>\n",
       "      <th>19</th>\n",
       "      <td>Dan Brown</td>\n",
       "      <td>3.741259</td>\n",
       "    </tr>\n",
       "    <tr>\n",
       "      <th>20</th>\n",
       "      <td>Lois Lowry</td>\n",
       "      <td>3.738462</td>\n",
       "    </tr>\n",
       "    <tr>\n",
       "      <th>21</th>\n",
       "      <td>George Orwell/Boris Grabnar/Peter Škerl</td>\n",
       "      <td>3.729730</td>\n",
       "    </tr>\n",
       "    <tr>\n",
       "      <th>22</th>\n",
       "      <td>Stephenie Meyer</td>\n",
       "      <td>3.662500</td>\n",
       "    </tr>\n",
       "    <tr>\n",
       "      <th>23</th>\n",
       "      <td>John Steinbeck</td>\n",
       "      <td>3.643836</td>\n",
       "    </tr>\n",
       "  </tbody>\n",
       "</table>\n",
       "</div>"
      ],
      "text/plain": [
       "                                               author  calificacion_promedio\n",
       "0                                      Diana Gabaldon               4.300000\n",
       "1                          J.K. Rowling/Mary GrandPré               4.288462\n",
       "2                                     Agatha Christie               4.283019\n",
       "3                   Markus Zusak/Cao Xuân Việt Khương               4.264151\n",
       "4                                      J.R.R. Tolkien               4.240964\n",
       "5                            Roald Dahl/Quentin Blake               4.209677\n",
       "6                                   Louisa May Alcott               4.203704\n",
       "7                                        Rick Riordan               4.130952\n",
       "8                                       Arthur Golden               4.107143\n",
       "9                                        Stephen King               4.009434\n",
       "10                                       John Grisham               3.971429\n",
       "11                                    William Golding               3.901408\n",
       "12                                    Nicholas Sparks               3.882883\n",
       "13                                       Jodi Picoult               3.881579\n",
       "14                                    Sophie Kinsella               3.877193\n",
       "15                                    James Patterson               3.859375\n",
       "16                                      J.D. Salinger               3.846939\n",
       "17           Paulo Coelho/Alan R. Clarke/Özdemir İnce               3.789474\n",
       "18  William Shakespeare/Paul Werstine/Barbara A. M...               3.787879\n",
       "19                                          Dan Brown               3.741259\n",
       "20                                         Lois Lowry               3.738462\n",
       "21            George Orwell/Boris Grabnar/Peter Škerl               3.729730\n",
       "22                                    Stephenie Meyer               3.662500\n",
       "23                                     John Steinbeck               3.643836"
      ]
     },
     "execution_count": 22,
     "metadata": {},
     "output_type": "execute_result"
    }
   ],
   "source": [
    "#ejecutar una consulta con SQL en python\n",
    "pd.io.sql.read_sql(top_author, con = engine)"
   ]
  },
  {
   "cell_type": "markdown",
   "metadata": {},
   "source": [
    "Diana Gabaldon es una escritora estadounidense conocida por la saga de novelas Forastera. En sus libros se desarrolla una trama que mezcla varios estilos como pueden ser la ficción histórica, la novela romántica, el misterio, la aventura y la fantasía.\n",
    "Y gracias a sus éxitos es considerada como la mejor escritora en cuanto a la calificacion dada por los usuarios.\n"
   ]
  },
  {
   "cell_type": "code",
   "execution_count": 23,
   "metadata": {},
   "outputs": [],
   "source": [
    "#Encuentra el número promedio de reseñas de texto entre los usuarios que calificaron más de 50 libros.\n",
    "avg_reviews= \"\"\"\n",
    "SELECT AVG(REVIEW_COUNT) AS AVG_REVIEWS_PER_USER\n",
    "FROM (\n",
    "    SELECT USERNAME, COUNT(*) AS REVIEW_COUNT\n",
    "    FROM REVIEWS \n",
    "    WHERE USERNAME IN (\n",
    "        SELECT DISTINCT USERNAME\n",
    "        FROM RATINGS\n",
    "        GROUP BY USERNAME\n",
    "        HAVING COUNT(DISTINCT BOOK_ID) > 50\n",
    "    )\n",
    "    GROUP BY USERNAME\n",
    ") AS FILTERED_REVIEWS; \n",
    "\"\"\""
   ]
  },
  {
   "cell_type": "code",
   "execution_count": 24,
   "metadata": {},
   "outputs": [
    {
     "data": {
      "text/html": [
       "<div>\n",
       "<style scoped>\n",
       "    .dataframe tbody tr th:only-of-type {\n",
       "        vertical-align: middle;\n",
       "    }\n",
       "\n",
       "    .dataframe tbody tr th {\n",
       "        vertical-align: top;\n",
       "    }\n",
       "\n",
       "    .dataframe thead th {\n",
       "        text-align: right;\n",
       "    }\n",
       "</style>\n",
       "<table border=\"1\" class=\"dataframe\">\n",
       "  <thead>\n",
       "    <tr style=\"text-align: right;\">\n",
       "      <th></th>\n",
       "      <th>avg_reviews_per_user</th>\n",
       "    </tr>\n",
       "  </thead>\n",
       "  <tbody>\n",
       "    <tr>\n",
       "      <th>0</th>\n",
       "      <td>24.333333</td>\n",
       "    </tr>\n",
       "  </tbody>\n",
       "</table>\n",
       "</div>"
      ],
      "text/plain": [
       "   avg_reviews_per_user\n",
       "0             24.333333"
      ]
     },
     "execution_count": 24,
     "metadata": {},
     "output_type": "execute_result"
    }
   ],
   "source": [
    "#ejecutar una consulta con SQL en python\n",
    "pd.io.sql.read_sql(avg_reviews, con = engine)"
   ]
  },
  {
   "cell_type": "markdown",
   "metadata": {},
   "source": [
    "Los usuarios que han realizado más de 50 reseñas (lectores apasionados) han hecho un promedio de 24 (24.33333) reseñas."
   ]
  },
  {
   "cell_type": "markdown",
   "metadata": {},
   "source": [
    "# Conclusiones"
   ]
  },
  {
   "cell_type": "markdown",
   "metadata": {},
   "source": [
    "- Ahora conocemos que desde inicio de los años 2000, tenemos un registro de que se han publicado 812 libros, registrados en esta base de datos.\n",
    "\n",
    "\n",
    "- El promedio de calificación y numero de reseas varia demasiado entre cada libro, se deberá hacer un filtro más a fondo, según el autor o editorial o categoría que nos guie sobre estos detas y pueda ser utiliado de una forma más objetiva para el proyecto deseado.\n",
    "\n",
    "\n",
    "- La editorial \"Penguin Books\" es en nuestro data la editorial con mayor número de libros publicados con un registro de\t42 títulos, seguido por la editorial \"Vintage\" con\t31 títulos y en 3er lugar \"Grand Central Publishing\" con 25 títulos. Será necesario conocer más sobre los titulos y las editoriales para conocer el impacto de estos en la audiencia y tomar decisiones a favor de la propueta a realizar, si se desea llegar a las editoriales con mayor número de publicaciones estas  pueden ser consideras.\n",
    "\n",
    "\n",
    "- La escritora Estadounidense Diana Gabaldon es considerada la escritora con mejor calificacion de los usuarios con sus publicacions con un promedio de\t4.300000, seguida por J.K. Rowling/Mary GrandPré con una calificacion de 4.288462 y finalizando en 3er lugar con Agatha Christie con una calificación de 4.283019. Es importante evaluar el tipo de libros que realia cada autor para así entender su calificación, aunque es importante recordar que estas calificaciones fueron dadas por los usuarios y no por gente dedicada a este fin.\n",
    "\n",
    "\n",
    "- Los usuarios que han realizado más de 50 reseñas han hecho un promedio de 24 reseñas para diferentes autores de libros consideremos que no muchos usuarios harán más de 50 reseñas diferentes, lo que nos dice que de los miles usuarios que han reseado solo 24 han reseñado más de 50 libros sin duda son pocos pero si existen grandes lectores.\n",
    "\n",
    "\n",
    "\n",
    "**Al no conocer el proyecto en el que se trabaja y las propuestas que se desean realizar esperó que la investigación sea de ayuda y guía para la toma de decisiones y el trabajo que se busca sea de éxito**"
   ]
  },
  {
   "cell_type": "code",
   "execution_count": null,
   "metadata": {},
   "outputs": [],
   "source": []
  }
 ],
 "metadata": {
  "ExecuteTimeLog": [
   {
    "duration": 342,
    "start_time": "2025-02-20T13:49:39.228Z"
   },
   {
    "duration": 7,
    "start_time": "2025-02-20T13:51:12.627Z"
   },
   {
    "duration": 2,
    "start_time": "2025-02-20T13:52:34.898Z"
   },
   {
    "duration": 6,
    "start_time": "2025-02-20T13:53:05.866Z"
   },
   {
    "duration": 3,
    "start_time": "2025-02-20T13:53:11.217Z"
   },
   {
    "duration": 29,
    "start_time": "2025-02-20T13:54:02.418Z"
   },
   {
    "duration": 222,
    "start_time": "2025-02-20T13:54:31.131Z"
   },
   {
    "duration": 2,
    "start_time": "2025-02-20T13:55:26.964Z"
   },
   {
    "duration": 47,
    "start_time": "2025-02-20T13:55:28.214Z"
   },
   {
    "duration": 13,
    "start_time": "2025-02-20T13:55:45.706Z"
   },
   {
    "duration": 3,
    "start_time": "2025-02-20T13:55:51.389Z"
   },
   {
    "duration": 209,
    "start_time": "2025-02-20T13:55:52.948Z"
   },
   {
    "duration": 2,
    "start_time": "2025-02-20T13:56:24.180Z"
   },
   {
    "duration": 73,
    "start_time": "2025-02-20T13:56:30.551Z"
   },
   {
    "duration": 327,
    "start_time": "2025-02-20T13:56:39.345Z"
   },
   {
    "duration": 3,
    "start_time": "2025-02-20T13:56:39.675Z"
   },
   {
    "duration": 3,
    "start_time": "2025-02-20T13:56:39.680Z"
   },
   {
    "duration": 20,
    "start_time": "2025-02-20T13:56:39.685Z"
   },
   {
    "duration": 2,
    "start_time": "2025-02-20T13:56:39.706Z"
   },
   {
    "duration": 400,
    "start_time": "2025-02-20T13:56:39.710Z"
   },
   {
    "duration": 2,
    "start_time": "2025-02-20T13:57:41.247Z"
   },
   {
    "duration": 78,
    "start_time": "2025-02-20T13:57:42.236Z"
   },
   {
    "duration": 47,
    "start_time": "2025-02-20T13:58:42.247Z"
   },
   {
    "duration": 2,
    "start_time": "2025-02-20T13:59:46.319Z"
   },
   {
    "duration": 13,
    "start_time": "2025-02-20T13:59:46.997Z"
   },
   {
    "duration": 2,
    "start_time": "2025-02-20T14:00:53.586Z"
   },
   {
    "duration": 13,
    "start_time": "2025-02-20T14:00:55.335Z"
   },
   {
    "duration": 2,
    "start_time": "2025-02-20T14:01:08.583Z"
   },
   {
    "duration": 10,
    "start_time": "2025-02-20T14:01:09.217Z"
   },
   {
    "duration": 3,
    "start_time": "2025-02-20T14:02:03.453Z"
   },
   {
    "duration": 10,
    "start_time": "2025-02-20T14:02:03.995Z"
   },
   {
    "duration": 361,
    "start_time": "2025-02-20T14:03:04.403Z"
   },
   {
    "duration": 4,
    "start_time": "2025-02-20T14:03:04.766Z"
   },
   {
    "duration": 4,
    "start_time": "2025-02-20T14:03:04.771Z"
   },
   {
    "duration": 21,
    "start_time": "2025-02-20T14:03:04.778Z"
   },
   {
    "duration": 2,
    "start_time": "2025-02-20T14:03:04.800Z"
   },
   {
    "duration": 42,
    "start_time": "2025-02-20T14:03:04.804Z"
   },
   {
    "duration": 2,
    "start_time": "2025-02-20T14:03:04.847Z"
   },
   {
    "duration": 10,
    "start_time": "2025-02-20T14:03:04.851Z"
   },
   {
    "duration": 2,
    "start_time": "2025-02-20T14:03:04.863Z"
   },
   {
    "duration": 9,
    "start_time": "2025-02-20T14:03:04.871Z"
   },
   {
    "duration": 2,
    "start_time": "2025-02-20T14:03:04.882Z"
   },
   {
    "duration": 608,
    "start_time": "2025-02-20T14:03:04.886Z"
   },
   {
    "duration": 0,
    "start_time": "2025-02-20T14:03:05.495Z"
   },
   {
    "duration": 0,
    "start_time": "2025-02-20T14:03:05.496Z"
   },
   {
    "duration": 2,
    "start_time": "2025-02-20T14:03:43.164Z"
   },
   {
    "duration": 11,
    "start_time": "2025-02-20T14:03:43.499Z"
   },
   {
    "duration": 2,
    "start_time": "2025-02-20T14:03:46.602Z"
   },
   {
    "duration": 11,
    "start_time": "2025-02-20T14:03:47.387Z"
   },
   {
    "duration": 13,
    "start_time": "2025-02-20T14:04:25.613Z"
   },
   {
    "duration": 14,
    "start_time": "2025-02-20T14:04:36.683Z"
   },
   {
    "duration": 2,
    "start_time": "2025-02-20T14:07:55.056Z"
   },
   {
    "duration": 3,
    "start_time": "2025-02-20T14:10:39.447Z"
   },
   {
    "duration": 12,
    "start_time": "2025-02-20T14:10:42.781Z"
   },
   {
    "duration": 4,
    "start_time": "2025-02-20T14:13:06.378Z"
   },
   {
    "duration": 3,
    "start_time": "2025-02-20T14:13:15.809Z"
   },
   {
    "duration": 3,
    "start_time": "2025-02-20T14:14:59.282Z"
   },
   {
    "duration": 2,
    "start_time": "2025-02-20T14:26:02.250Z"
   },
   {
    "duration": 106,
    "start_time": "2025-02-20T14:26:03.855Z"
   },
   {
    "duration": 3,
    "start_time": "2025-02-20T14:26:23.029Z"
   },
   {
    "duration": 115,
    "start_time": "2025-02-20T14:26:25.000Z"
   },
   {
    "duration": 4,
    "start_time": "2025-02-20T14:26:55.960Z"
   },
   {
    "duration": 3,
    "start_time": "2025-02-20T14:39:37.252Z"
   },
   {
    "duration": 155,
    "start_time": "2025-02-20T14:39:39.334Z"
   },
   {
    "duration": 2,
    "start_time": "2025-02-20T14:40:08.745Z"
   },
   {
    "duration": 10,
    "start_time": "2025-02-20T14:40:10.981Z"
   },
   {
    "duration": 2,
    "start_time": "2025-02-20T14:42:39.706Z"
   },
   {
    "duration": 16,
    "start_time": "2025-02-20T14:42:40.502Z"
   },
   {
    "duration": 3,
    "start_time": "2025-02-20T14:45:46.954Z"
   },
   {
    "duration": 9,
    "start_time": "2025-02-20T14:45:47.618Z"
   },
   {
    "duration": 2,
    "start_time": "2025-02-20T14:57:51.651Z"
   },
   {
    "duration": 104,
    "start_time": "2025-02-20T14:57:52.494Z"
   },
   {
    "duration": 2,
    "start_time": "2025-02-20T14:58:13.734Z"
   },
   {
    "duration": 101,
    "start_time": "2025-02-20T14:58:14.189Z"
   },
   {
    "duration": 2,
    "start_time": "2025-02-20T14:58:42.749Z"
   },
   {
    "duration": 101,
    "start_time": "2025-02-20T14:58:43.714Z"
   },
   {
    "duration": 3,
    "start_time": "2025-02-20T14:59:33.726Z"
   },
   {
    "duration": 105,
    "start_time": "2025-02-20T14:59:34.300Z"
   },
   {
    "duration": 3,
    "start_time": "2025-02-20T15:05:52.679Z"
   },
   {
    "duration": 108,
    "start_time": "2025-02-20T15:05:53.484Z"
   },
   {
    "duration": 336,
    "start_time": "2025-02-20T15:58:30.144Z"
   },
   {
    "duration": 3,
    "start_time": "2025-02-20T15:58:30.484Z"
   },
   {
    "duration": 3,
    "start_time": "2025-02-20T15:58:30.489Z"
   },
   {
    "duration": 21,
    "start_time": "2025-02-20T15:58:30.494Z"
   },
   {
    "duration": 3,
    "start_time": "2025-02-20T15:58:30.756Z"
   },
   {
    "duration": 42,
    "start_time": "2025-02-20T15:58:30.780Z"
   },
   {
    "duration": 3,
    "start_time": "2025-02-20T15:58:31.059Z"
   },
   {
    "duration": 10,
    "start_time": "2025-02-20T15:58:31.093Z"
   },
   {
    "duration": 2,
    "start_time": "2025-02-20T15:58:35.650Z"
   },
   {
    "duration": 10,
    "start_time": "2025-02-20T15:58:35.669Z"
   },
   {
    "duration": 2,
    "start_time": "2025-02-20T15:58:35.948Z"
   },
   {
    "duration": 12,
    "start_time": "2025-02-20T15:58:35.977Z"
   },
   {
    "duration": 3,
    "start_time": "2025-02-20T15:58:39.958Z"
   },
   {
    "duration": 12,
    "start_time": "2025-02-20T15:58:40.454Z"
   },
   {
    "duration": 3,
    "start_time": "2025-02-20T15:58:43.647Z"
   },
   {
    "duration": 11,
    "start_time": "2025-02-20T15:58:44.668Z"
   },
   {
    "duration": 343,
    "start_time": "2025-02-20T16:48:45.427Z"
   },
   {
    "duration": 2,
    "start_time": "2025-02-20T16:48:45.772Z"
   },
   {
    "duration": 3,
    "start_time": "2025-02-20T16:48:45.776Z"
   },
   {
    "duration": 20,
    "start_time": "2025-02-20T16:48:45.781Z"
   },
   {
    "duration": 2,
    "start_time": "2025-02-20T16:48:45.803Z"
   },
   {
    "duration": 42,
    "start_time": "2025-02-20T16:48:45.807Z"
   },
   {
    "duration": 2,
    "start_time": "2025-02-20T16:48:45.851Z"
   },
   {
    "duration": 12,
    "start_time": "2025-02-20T16:48:45.854Z"
   },
   {
    "duration": 3,
    "start_time": "2025-02-20T16:48:45.867Z"
   },
   {
    "duration": 10,
    "start_time": "2025-02-20T16:48:45.874Z"
   },
   {
    "duration": 2,
    "start_time": "2025-02-20T16:48:45.885Z"
   },
   {
    "duration": 11,
    "start_time": "2025-02-20T16:48:45.888Z"
   },
   {
    "duration": 2,
    "start_time": "2025-02-20T16:48:45.901Z"
   },
   {
    "duration": 12,
    "start_time": "2025-02-20T16:48:45.904Z"
   },
   {
    "duration": 2,
    "start_time": "2025-02-20T16:48:45.918Z"
   },
   {
    "duration": 12,
    "start_time": "2025-02-20T16:48:45.921Z"
   },
   {
    "duration": 3,
    "start_time": "2025-02-20T16:48:45.934Z"
   },
   {
    "duration": 666,
    "start_time": "2025-02-20T16:48:45.940Z"
   },
   {
    "duration": 0,
    "start_time": "2025-02-20T16:48:46.608Z"
   },
   {
    "duration": 0,
    "start_time": "2025-02-20T16:48:46.610Z"
   },
   {
    "duration": 0,
    "start_time": "2025-02-20T16:48:46.611Z"
   },
   {
    "duration": 0,
    "start_time": "2025-02-20T16:48:46.612Z"
   },
   {
    "duration": 0,
    "start_time": "2025-02-20T16:48:46.620Z"
   },
   {
    "duration": 0,
    "start_time": "2025-02-20T16:48:46.621Z"
   },
   {
    "duration": 3,
    "start_time": "2025-02-20T16:48:55.915Z"
   },
   {
    "duration": 105,
    "start_time": "2025-02-20T16:48:56.981Z"
   },
   {
    "duration": 3,
    "start_time": "2025-02-20T17:22:30.301Z"
   },
   {
    "duration": 111,
    "start_time": "2025-02-20T17:22:31.282Z"
   },
   {
    "duration": 3,
    "start_time": "2025-02-20T17:23:47.852Z"
   },
   {
    "duration": 158,
    "start_time": "2025-02-20T17:23:48.237Z"
   },
   {
    "duration": 3,
    "start_time": "2025-02-20T17:34:37.565Z"
   },
   {
    "duration": 117,
    "start_time": "2025-02-20T17:34:38.425Z"
   },
   {
    "duration": 3,
    "start_time": "2025-02-20T17:39:27.226Z"
   },
   {
    "duration": 111,
    "start_time": "2025-02-20T17:39:27.740Z"
   },
   {
    "duration": 3,
    "start_time": "2025-02-20T17:44:15.023Z"
   },
   {
    "duration": 104,
    "start_time": "2025-02-20T17:44:15.827Z"
   },
   {
    "duration": 345,
    "start_time": "2025-02-20T17:49:28.456Z"
   },
   {
    "duration": 3,
    "start_time": "2025-02-20T17:49:28.803Z"
   },
   {
    "duration": 4,
    "start_time": "2025-02-20T17:49:28.807Z"
   },
   {
    "duration": 22,
    "start_time": "2025-02-20T17:49:28.814Z"
   },
   {
    "duration": 2,
    "start_time": "2025-02-20T17:49:28.838Z"
   },
   {
    "duration": 66,
    "start_time": "2025-02-20T17:49:28.842Z"
   },
   {
    "duration": 2,
    "start_time": "2025-02-20T17:49:28.910Z"
   },
   {
    "duration": 10,
    "start_time": "2025-02-20T17:49:28.913Z"
   },
   {
    "duration": 2,
    "start_time": "2025-02-20T17:49:28.925Z"
   },
   {
    "duration": 10,
    "start_time": "2025-02-20T17:49:28.930Z"
   },
   {
    "duration": 2,
    "start_time": "2025-02-20T17:49:28.943Z"
   },
   {
    "duration": 10,
    "start_time": "2025-02-20T17:49:28.947Z"
   },
   {
    "duration": 3,
    "start_time": "2025-02-20T17:49:28.958Z"
   },
   {
    "duration": 29,
    "start_time": "2025-02-20T17:49:28.962Z"
   },
   {
    "duration": 4,
    "start_time": "2025-02-20T17:49:28.992Z"
   },
   {
    "duration": 10,
    "start_time": "2025-02-20T17:49:28.997Z"
   },
   {
    "duration": 2,
    "start_time": "2025-02-20T17:49:29.008Z"
   },
   {
    "duration": 623,
    "start_time": "2025-02-20T17:49:29.012Z"
   },
   {
    "duration": 0,
    "start_time": "2025-02-20T17:49:29.637Z"
   },
   {
    "duration": 0,
    "start_time": "2025-02-20T17:49:29.639Z"
   },
   {
    "duration": 0,
    "start_time": "2025-02-20T17:49:29.640Z"
   },
   {
    "duration": 1,
    "start_time": "2025-02-20T17:49:29.642Z"
   },
   {
    "duration": 0,
    "start_time": "2025-02-20T17:49:29.643Z"
   },
   {
    "duration": 0,
    "start_time": "2025-02-20T17:49:29.645Z"
   },
   {
    "duration": 2,
    "start_time": "2025-02-20T17:49:54.150Z"
   },
   {
    "duration": 117,
    "start_time": "2025-02-20T17:49:55.282Z"
   },
   {
    "duration": 4,
    "start_time": "2025-02-20T17:50:38.568Z"
   },
   {
    "duration": 109,
    "start_time": "2025-02-20T17:50:39.230Z"
   },
   {
    "duration": 3,
    "start_time": "2025-02-20T17:56:25.897Z"
   },
   {
    "duration": 175,
    "start_time": "2025-02-20T17:56:26.749Z"
   },
   {
    "duration": 2,
    "start_time": "2025-02-20T17:59:50.494Z"
   },
   {
    "duration": 122,
    "start_time": "2025-02-20T17:59:50.919Z"
   },
   {
    "duration": 2,
    "start_time": "2025-02-20T18:00:53.859Z"
   },
   {
    "duration": 112,
    "start_time": "2025-02-20T18:00:54.726Z"
   },
   {
    "duration": 3,
    "start_time": "2025-02-20T18:01:10.294Z"
   },
   {
    "duration": 111,
    "start_time": "2025-02-20T18:01:10.836Z"
   },
   {
    "duration": 3,
    "start_time": "2025-02-20T18:01:44.896Z"
   },
   {
    "duration": 22,
    "start_time": "2025-02-20T18:01:45.178Z"
   },
   {
    "duration": 3,
    "start_time": "2025-02-20T18:02:13.018Z"
   },
   {
    "duration": 133,
    "start_time": "2025-02-20T18:02:13.790Z"
   },
   {
    "duration": 3,
    "start_time": "2025-02-20T18:07:02.158Z"
   },
   {
    "duration": 119,
    "start_time": "2025-02-20T18:07:02.982Z"
   },
   {
    "duration": 325,
    "start_time": "2025-02-20T18:19:47.357Z"
   },
   {
    "duration": 3,
    "start_time": "2025-02-20T18:19:47.684Z"
   },
   {
    "duration": 4,
    "start_time": "2025-02-20T18:19:47.688Z"
   },
   {
    "duration": 21,
    "start_time": "2025-02-20T18:19:47.694Z"
   },
   {
    "duration": 4,
    "start_time": "2025-02-20T18:19:47.716Z"
   },
   {
    "duration": 63,
    "start_time": "2025-02-20T18:19:47.722Z"
   },
   {
    "duration": 2,
    "start_time": "2025-02-20T18:19:47.787Z"
   },
   {
    "duration": 10,
    "start_time": "2025-02-20T18:19:47.791Z"
   },
   {
    "duration": 2,
    "start_time": "2025-02-20T18:19:47.803Z"
   },
   {
    "duration": 9,
    "start_time": "2025-02-20T18:19:47.809Z"
   },
   {
    "duration": 3,
    "start_time": "2025-02-20T18:19:47.819Z"
   },
   {
    "duration": 10,
    "start_time": "2025-02-20T18:19:47.824Z"
   },
   {
    "duration": 2,
    "start_time": "2025-02-20T18:19:47.836Z"
   },
   {
    "duration": 10,
    "start_time": "2025-02-20T18:19:47.840Z"
   },
   {
    "duration": 3,
    "start_time": "2025-02-20T18:19:47.870Z"
   },
   {
    "duration": 11,
    "start_time": "2025-02-20T18:19:47.875Z"
   },
   {
    "duration": 3,
    "start_time": "2025-02-20T18:19:47.889Z"
   },
   {
    "duration": 605,
    "start_time": "2025-02-20T18:19:47.894Z"
   },
   {
    "duration": 0,
    "start_time": "2025-02-20T18:19:48.500Z"
   },
   {
    "duration": 0,
    "start_time": "2025-02-20T18:19:48.502Z"
   },
   {
    "duration": 0,
    "start_time": "2025-02-20T18:19:48.504Z"
   },
   {
    "duration": 0,
    "start_time": "2025-02-20T18:19:48.505Z"
   },
   {
    "duration": 0,
    "start_time": "2025-02-20T18:19:48.506Z"
   },
   {
    "duration": 0,
    "start_time": "2025-02-20T18:19:48.507Z"
   },
   {
    "duration": 3,
    "start_time": "2025-02-20T18:21:07.603Z"
   },
   {
    "duration": 102,
    "start_time": "2025-02-20T18:21:08.473Z"
   },
   {
    "duration": 2,
    "start_time": "2025-02-20T18:22:28.580Z"
   },
   {
    "duration": 103,
    "start_time": "2025-02-20T18:22:29.411Z"
   },
   {
    "duration": 2,
    "start_time": "2025-02-20T18:24:46.418Z"
   },
   {
    "duration": 159,
    "start_time": "2025-02-20T18:24:47.242Z"
   },
   {
    "duration": 3,
    "start_time": "2025-02-20T18:25:28.624Z"
   },
   {
    "duration": 105,
    "start_time": "2025-02-20T18:25:29.623Z"
   },
   {
    "duration": 361,
    "start_time": "2025-02-20T23:50:53.815Z"
   },
   {
    "duration": 3,
    "start_time": "2025-02-20T23:50:54.178Z"
   },
   {
    "duration": 3,
    "start_time": "2025-02-20T23:50:54.182Z"
   },
   {
    "duration": 23,
    "start_time": "2025-02-20T23:50:54.187Z"
   },
   {
    "duration": 2,
    "start_time": "2025-02-20T23:50:54.213Z"
   },
   {
    "duration": 42,
    "start_time": "2025-02-20T23:50:54.217Z"
   },
   {
    "duration": 2,
    "start_time": "2025-02-20T23:50:54.261Z"
   },
   {
    "duration": 11,
    "start_time": "2025-02-20T23:50:54.264Z"
   },
   {
    "duration": 3,
    "start_time": "2025-02-20T23:50:54.276Z"
   },
   {
    "duration": 10,
    "start_time": "2025-02-20T23:50:54.280Z"
   },
   {
    "duration": 2,
    "start_time": "2025-02-20T23:50:54.292Z"
   },
   {
    "duration": 10,
    "start_time": "2025-02-20T23:50:54.296Z"
   },
   {
    "duration": 3,
    "start_time": "2025-02-20T23:50:54.307Z"
   },
   {
    "duration": 10,
    "start_time": "2025-02-20T23:50:54.313Z"
   },
   {
    "duration": 3,
    "start_time": "2025-02-20T23:50:54.324Z"
   },
   {
    "duration": 17,
    "start_time": "2025-02-20T23:50:54.330Z"
   },
   {
    "duration": 2,
    "start_time": "2025-02-20T23:50:54.371Z"
   },
   {
    "duration": 623,
    "start_time": "2025-02-20T23:50:54.375Z"
   },
   {
    "duration": 0,
    "start_time": "2025-02-20T23:50:54.999Z"
   },
   {
    "duration": 0,
    "start_time": "2025-02-20T23:50:55.001Z"
   },
   {
    "duration": 0,
    "start_time": "2025-02-20T23:50:55.002Z"
   },
   {
    "duration": 0,
    "start_time": "2025-02-20T23:50:55.003Z"
   },
   {
    "duration": 0,
    "start_time": "2025-02-20T23:50:55.005Z"
   },
   {
    "duration": 0,
    "start_time": "2025-02-20T23:50:55.006Z"
   },
   {
    "duration": 4,
    "start_time": "2025-02-20T23:52:47.320Z"
   },
   {
    "duration": 108,
    "start_time": "2025-02-20T23:52:48.244Z"
   },
   {
    "duration": 2,
    "start_time": "2025-02-20T23:57:26.714Z"
   },
   {
    "duration": 104,
    "start_time": "2025-02-20T23:57:27.604Z"
   },
   {
    "duration": 2,
    "start_time": "2025-02-21T00:00:52.244Z"
   },
   {
    "duration": 153,
    "start_time": "2025-02-21T00:00:53.049Z"
   },
   {
    "duration": 3,
    "start_time": "2025-02-21T00:05:39.619Z"
   },
   {
    "duration": 107,
    "start_time": "2025-02-21T00:05:40.305Z"
   },
   {
    "duration": 386,
    "start_time": "2025-02-21T14:04:00.739Z"
   },
   {
    "duration": 3,
    "start_time": "2025-02-21T14:04:01.128Z"
   },
   {
    "duration": 3,
    "start_time": "2025-02-21T14:04:01.133Z"
   },
   {
    "duration": 35,
    "start_time": "2025-02-21T14:04:01.139Z"
   },
   {
    "duration": 2,
    "start_time": "2025-02-21T14:04:01.176Z"
   },
   {
    "duration": 39,
    "start_time": "2025-02-21T14:04:01.180Z"
   },
   {
    "duration": 2,
    "start_time": "2025-02-21T14:04:01.220Z"
   },
   {
    "duration": 8,
    "start_time": "2025-02-21T14:04:01.224Z"
   },
   {
    "duration": 2,
    "start_time": "2025-02-21T14:04:01.234Z"
   },
   {
    "duration": 7,
    "start_time": "2025-02-21T14:04:01.240Z"
   },
   {
    "duration": 2,
    "start_time": "2025-02-21T14:04:01.249Z"
   },
   {
    "duration": 9,
    "start_time": "2025-02-21T14:04:01.252Z"
   },
   {
    "duration": 3,
    "start_time": "2025-02-21T14:04:01.262Z"
   },
   {
    "duration": 10,
    "start_time": "2025-02-21T14:04:01.266Z"
   },
   {
    "duration": 3,
    "start_time": "2025-02-21T14:04:01.277Z"
   },
   {
    "duration": 9,
    "start_time": "2025-02-21T14:04:01.281Z"
   },
   {
    "duration": 3,
    "start_time": "2025-02-21T14:04:01.292Z"
   },
   {
    "duration": 619,
    "start_time": "2025-02-21T14:04:01.296Z"
   },
   {
    "duration": 0,
    "start_time": "2025-02-21T14:04:01.917Z"
   },
   {
    "duration": 0,
    "start_time": "2025-02-21T14:04:01.918Z"
   },
   {
    "duration": 0,
    "start_time": "2025-02-21T14:04:01.920Z"
   },
   {
    "duration": 0,
    "start_time": "2025-02-21T14:04:01.921Z"
   },
   {
    "duration": 0,
    "start_time": "2025-02-21T14:04:01.922Z"
   },
   {
    "duration": 0,
    "start_time": "2025-02-21T14:04:01.931Z"
   },
   {
    "duration": 3,
    "start_time": "2025-02-21T14:04:10.149Z"
   },
   {
    "duration": 12,
    "start_time": "2025-02-21T14:04:10.895Z"
   },
   {
    "duration": 3,
    "start_time": "2025-02-21T14:22:26.949Z"
   },
   {
    "duration": 15,
    "start_time": "2025-02-21T14:22:27.560Z"
   },
   {
    "duration": 2,
    "start_time": "2025-02-21T14:23:44.918Z"
   },
   {
    "duration": 104,
    "start_time": "2025-02-21T14:23:45.496Z"
   },
   {
    "duration": 3,
    "start_time": "2025-02-21T14:24:42.901Z"
   },
   {
    "duration": 100,
    "start_time": "2025-02-21T14:24:43.441Z"
   },
   {
    "duration": 2,
    "start_time": "2025-02-21T14:28:05.008Z"
   },
   {
    "duration": 153,
    "start_time": "2025-02-21T14:28:05.671Z"
   },
   {
    "duration": 3,
    "start_time": "2025-02-21T14:29:01.299Z"
   },
   {
    "duration": 105,
    "start_time": "2025-02-21T14:29:01.952Z"
   },
   {
    "duration": 2,
    "start_time": "2025-02-21T14:33:13.125Z"
   },
   {
    "duration": 13,
    "start_time": "2025-02-21T14:33:13.834Z"
   },
   {
    "duration": 3,
    "start_time": "2025-02-21T14:38:55.453Z"
   },
   {
    "duration": 24,
    "start_time": "2025-02-21T14:38:56.347Z"
   },
   {
    "duration": 368,
    "start_time": "2025-02-21T14:42:02.166Z"
   },
   {
    "duration": 3,
    "start_time": "2025-02-21T14:42:02.537Z"
   },
   {
    "duration": 4,
    "start_time": "2025-02-21T14:42:02.541Z"
   },
   {
    "duration": 21,
    "start_time": "2025-02-21T14:42:02.547Z"
   },
   {
    "duration": 3,
    "start_time": "2025-02-21T14:42:02.569Z"
   },
   {
    "duration": 35,
    "start_time": "2025-02-21T14:42:02.573Z"
   },
   {
    "duration": 2,
    "start_time": "2025-02-21T14:42:02.611Z"
   },
   {
    "duration": 24,
    "start_time": "2025-02-21T14:42:02.615Z"
   },
   {
    "duration": 3,
    "start_time": "2025-02-21T14:42:02.640Z"
   },
   {
    "duration": 8,
    "start_time": "2025-02-21T14:42:02.646Z"
   },
   {
    "duration": 2,
    "start_time": "2025-02-21T14:42:02.655Z"
   },
   {
    "duration": 9,
    "start_time": "2025-02-21T14:42:02.659Z"
   },
   {
    "duration": 2,
    "start_time": "2025-02-21T14:42:02.670Z"
   },
   {
    "duration": 10,
    "start_time": "2025-02-21T14:42:02.673Z"
   },
   {
    "duration": 2,
    "start_time": "2025-02-21T14:42:02.685Z"
   },
   {
    "duration": 43,
    "start_time": "2025-02-21T14:42:02.689Z"
   },
   {
    "duration": 2,
    "start_time": "2025-02-21T14:42:02.735Z"
   },
   {
    "duration": 27,
    "start_time": "2025-02-21T14:42:02.740Z"
   },
   {
    "duration": 2,
    "start_time": "2025-02-21T14:42:02.769Z"
   },
   {
    "duration": 12,
    "start_time": "2025-02-21T14:42:02.773Z"
   },
   {
    "duration": 3,
    "start_time": "2025-02-21T14:42:02.787Z"
   },
   {
    "duration": 16,
    "start_time": "2025-02-21T14:42:02.791Z"
   },
   {
    "duration": 2,
    "start_time": "2025-02-21T14:42:02.808Z"
   },
   {
    "duration": 20,
    "start_time": "2025-02-21T14:42:02.812Z"
   },
   {
    "duration": 5,
    "start_time": "2025-02-21T17:38:54.338Z"
   },
   {
    "duration": 154,
    "start_time": "2025-02-21T17:38:54.913Z"
   },
   {
    "duration": 347,
    "start_time": "2025-02-21T17:39:02.617Z"
   },
   {
    "duration": 3,
    "start_time": "2025-02-21T17:39:02.967Z"
   },
   {
    "duration": 5,
    "start_time": "2025-02-21T17:39:02.971Z"
   },
   {
    "duration": 29,
    "start_time": "2025-02-21T17:39:02.978Z"
   },
   {
    "duration": 2,
    "start_time": "2025-02-21T17:39:03.010Z"
   },
   {
    "duration": 60,
    "start_time": "2025-02-21T17:39:03.013Z"
   },
   {
    "duration": 2,
    "start_time": "2025-02-21T17:39:03.075Z"
   },
   {
    "duration": 9,
    "start_time": "2025-02-21T17:39:03.079Z"
   },
   {
    "duration": 2,
    "start_time": "2025-02-21T17:39:03.090Z"
   },
   {
    "duration": 9,
    "start_time": "2025-02-21T17:39:03.093Z"
   },
   {
    "duration": 2,
    "start_time": "2025-02-21T17:39:03.104Z"
   },
   {
    "duration": 10,
    "start_time": "2025-02-21T17:39:03.107Z"
   },
   {
    "duration": 2,
    "start_time": "2025-02-21T17:39:03.118Z"
   },
   {
    "duration": 21,
    "start_time": "2025-02-21T17:39:03.124Z"
   },
   {
    "duration": 2,
    "start_time": "2025-02-21T17:39:03.147Z"
   },
   {
    "duration": 9,
    "start_time": "2025-02-21T17:39:03.151Z"
   },
   {
    "duration": 2,
    "start_time": "2025-02-21T17:39:03.161Z"
   },
   {
    "duration": 56,
    "start_time": "2025-02-21T17:39:03.165Z"
   },
   {
    "duration": 3,
    "start_time": "2025-02-21T17:39:03.222Z"
   },
   {
    "duration": 12,
    "start_time": "2025-02-21T17:39:03.226Z"
   },
   {
    "duration": 2,
    "start_time": "2025-02-21T17:39:03.240Z"
   },
   {
    "duration": 14,
    "start_time": "2025-02-21T17:39:03.244Z"
   },
   {
    "duration": 2,
    "start_time": "2025-02-21T17:39:03.260Z"
   },
   {
    "duration": 13,
    "start_time": "2025-02-21T17:39:03.263Z"
   },
   {
    "duration": 2,
    "start_time": "2025-02-21T17:44:38.623Z"
   },
   {
    "duration": 15,
    "start_time": "2025-02-21T17:44:39.180Z"
   },
   {
    "duration": 349,
    "start_time": "2025-02-21T17:52:10.701Z"
   },
   {
    "duration": 2,
    "start_time": "2025-02-21T17:52:11.054Z"
   },
   {
    "duration": 3,
    "start_time": "2025-02-21T17:52:11.058Z"
   },
   {
    "duration": 20,
    "start_time": "2025-02-21T17:52:11.064Z"
   },
   {
    "duration": 2,
    "start_time": "2025-02-21T17:52:11.086Z"
   },
   {
    "duration": 34,
    "start_time": "2025-02-21T17:52:11.090Z"
   },
   {
    "duration": 2,
    "start_time": "2025-02-21T17:52:11.126Z"
   },
   {
    "duration": 22,
    "start_time": "2025-02-21T17:52:11.130Z"
   },
   {
    "duration": 2,
    "start_time": "2025-02-21T17:52:11.154Z"
   },
   {
    "duration": 8,
    "start_time": "2025-02-21T17:52:11.160Z"
   },
   {
    "duration": 2,
    "start_time": "2025-02-21T17:52:11.169Z"
   },
   {
    "duration": 9,
    "start_time": "2025-02-21T17:52:11.173Z"
   },
   {
    "duration": 2,
    "start_time": "2025-02-21T17:52:11.183Z"
   },
   {
    "duration": 10,
    "start_time": "2025-02-21T17:52:11.187Z"
   },
   {
    "duration": 2,
    "start_time": "2025-02-21T17:52:11.198Z"
   },
   {
    "duration": 8,
    "start_time": "2025-02-21T17:52:11.202Z"
   },
   {
    "duration": 33,
    "start_time": "2025-02-21T17:52:11.211Z"
   },
   {
    "duration": 27,
    "start_time": "2025-02-21T17:52:11.247Z"
   },
   {
    "duration": 2,
    "start_time": "2025-02-21T17:52:11.276Z"
   },
   {
    "duration": 13,
    "start_time": "2025-02-21T17:52:11.280Z"
   },
   {
    "duration": 3,
    "start_time": "2025-02-21T17:52:11.294Z"
   },
   {
    "duration": 14,
    "start_time": "2025-02-21T17:52:11.299Z"
   },
   {
    "duration": 2,
    "start_time": "2025-02-21T17:52:11.315Z"
   },
   {
    "duration": 12,
    "start_time": "2025-02-21T17:52:11.319Z"
   },
   {
    "duration": 367,
    "start_time": "2025-02-22T13:23:16.217Z"
   },
   {
    "duration": 3,
    "start_time": "2025-02-22T13:23:16.587Z"
   },
   {
    "duration": 4,
    "start_time": "2025-02-22T13:23:16.591Z"
   },
   {
    "duration": 24,
    "start_time": "2025-02-22T13:23:16.598Z"
   },
   {
    "duration": 3,
    "start_time": "2025-02-22T13:23:16.623Z"
   },
   {
    "duration": 42,
    "start_time": "2025-02-22T13:23:16.627Z"
   },
   {
    "duration": 3,
    "start_time": "2025-02-22T13:23:16.671Z"
   },
   {
    "duration": 10,
    "start_time": "2025-02-22T13:23:16.676Z"
   },
   {
    "duration": 3,
    "start_time": "2025-02-22T13:23:16.687Z"
   },
   {
    "duration": 10,
    "start_time": "2025-02-22T13:23:16.693Z"
   },
   {
    "duration": 2,
    "start_time": "2025-02-22T13:23:16.705Z"
   },
   {
    "duration": 12,
    "start_time": "2025-02-22T13:23:16.708Z"
   },
   {
    "duration": 2,
    "start_time": "2025-02-22T13:23:16.721Z"
   },
   {
    "duration": 11,
    "start_time": "2025-02-22T13:23:16.725Z"
   },
   {
    "duration": 2,
    "start_time": "2025-02-22T13:23:16.769Z"
   },
   {
    "duration": 10,
    "start_time": "2025-02-22T13:23:16.775Z"
   },
   {
    "duration": 3,
    "start_time": "2025-02-22T13:23:16.788Z"
   },
   {
    "duration": 30,
    "start_time": "2025-02-22T13:23:16.792Z"
   },
   {
    "duration": 3,
    "start_time": "2025-02-22T13:23:16.824Z"
   },
   {
    "duration": 15,
    "start_time": "2025-02-22T13:23:16.828Z"
   },
   {
    "duration": 3,
    "start_time": "2025-02-22T13:23:16.844Z"
   },
   {
    "duration": 16,
    "start_time": "2025-02-22T13:23:16.848Z"
   },
   {
    "duration": 2,
    "start_time": "2025-02-22T13:23:16.866Z"
   },
   {
    "duration": 17,
    "start_time": "2025-02-22T13:23:16.872Z"
   },
   {
    "duration": 352,
    "start_time": "2025-02-24T00:10:18.568Z"
   },
   {
    "duration": 3,
    "start_time": "2025-02-24T00:10:18.922Z"
   },
   {
    "duration": 4,
    "start_time": "2025-02-24T00:10:18.926Z"
   },
   {
    "duration": 22,
    "start_time": "2025-02-24T00:10:18.932Z"
   },
   {
    "duration": 15,
    "start_time": "2025-02-24T00:10:18.956Z"
   },
   {
    "duration": 62,
    "start_time": "2025-02-24T00:10:18.972Z"
   },
   {
    "duration": 2,
    "start_time": "2025-02-24T00:10:19.036Z"
   },
   {
    "duration": 13,
    "start_time": "2025-02-24T00:10:19.040Z"
   },
   {
    "duration": 2,
    "start_time": "2025-02-24T00:10:19.055Z"
   },
   {
    "duration": 9,
    "start_time": "2025-02-24T00:10:19.060Z"
   },
   {
    "duration": 2,
    "start_time": "2025-02-24T00:10:19.071Z"
   },
   {
    "duration": 11,
    "start_time": "2025-02-24T00:10:19.074Z"
   },
   {
    "duration": 2,
    "start_time": "2025-02-24T00:10:19.086Z"
   },
   {
    "duration": 12,
    "start_time": "2025-02-24T00:10:19.090Z"
   },
   {
    "duration": 2,
    "start_time": "2025-02-24T00:10:19.104Z"
   },
   {
    "duration": 10,
    "start_time": "2025-02-24T00:10:19.108Z"
   },
   {
    "duration": 2,
    "start_time": "2025-02-24T00:10:19.120Z"
   },
   {
    "duration": 31,
    "start_time": "2025-02-24T00:10:19.123Z"
   },
   {
    "duration": 3,
    "start_time": "2025-02-24T00:10:19.156Z"
   },
   {
    "duration": 23,
    "start_time": "2025-02-24T00:10:19.160Z"
   },
   {
    "duration": 2,
    "start_time": "2025-02-24T00:10:19.185Z"
   },
   {
    "duration": 18,
    "start_time": "2025-02-24T00:10:19.189Z"
   },
   {
    "duration": 2,
    "start_time": "2025-02-24T00:10:19.209Z"
   },
   {
    "duration": 16,
    "start_time": "2025-02-24T00:10:19.214Z"
   },
   {
    "duration": 2,
    "start_time": "2025-02-24T00:20:51.119Z"
   },
   {
    "duration": 609,
    "start_time": "2025-02-24T00:20:52.293Z"
   },
   {
    "duration": 2,
    "start_time": "2025-02-24T00:26:40.236Z"
   },
   {
    "duration": 15,
    "start_time": "2025-02-24T00:26:43.583Z"
   },
   {
    "duration": 2,
    "start_time": "2025-02-24T00:38:01.300Z"
   },
   {
    "duration": 13,
    "start_time": "2025-02-24T00:38:02.102Z"
   },
   {
    "duration": 119,
    "start_time": "2025-02-24T00:38:09.433Z"
   },
   {
    "duration": 2,
    "start_time": "2025-02-24T00:38:25.079Z"
   },
   {
    "duration": 155,
    "start_time": "2025-02-24T00:38:25.588Z"
   },
   {
    "duration": 3,
    "start_time": "2025-02-24T00:43:36.316Z"
   },
   {
    "duration": 17,
    "start_time": "2025-02-24T00:43:36.941Z"
   },
   {
    "duration": 2,
    "start_time": "2025-02-24T00:45:54.599Z"
   },
   {
    "duration": 16,
    "start_time": "2025-02-24T00:45:55.793Z"
   },
   {
    "duration": 3,
    "start_time": "2025-02-24T00:57:15.727Z"
   },
   {
    "duration": 17,
    "start_time": "2025-02-24T00:57:16.201Z"
   },
   {
    "duration": 320,
    "start_time": "2025-02-24T01:03:31.650Z"
   },
   {
    "duration": 3,
    "start_time": "2025-02-24T01:03:31.972Z"
   },
   {
    "duration": 4,
    "start_time": "2025-02-24T01:03:31.976Z"
   },
   {
    "duration": 22,
    "start_time": "2025-02-24T01:03:31.981Z"
   },
   {
    "duration": 2,
    "start_time": "2025-02-24T01:03:32.006Z"
   },
   {
    "duration": 41,
    "start_time": "2025-02-24T01:03:32.010Z"
   },
   {
    "duration": 2,
    "start_time": "2025-02-24T01:03:32.053Z"
   },
   {
    "duration": 17,
    "start_time": "2025-02-24T01:03:32.057Z"
   },
   {
    "duration": 2,
    "start_time": "2025-02-24T01:03:32.075Z"
   },
   {
    "duration": 10,
    "start_time": "2025-02-24T01:03:32.079Z"
   },
   {
    "duration": 2,
    "start_time": "2025-02-24T01:03:32.091Z"
   },
   {
    "duration": 11,
    "start_time": "2025-02-24T01:03:32.094Z"
   },
   {
    "duration": 3,
    "start_time": "2025-02-24T01:03:32.106Z"
   },
   {
    "duration": 10,
    "start_time": "2025-02-24T01:03:32.112Z"
   },
   {
    "duration": 2,
    "start_time": "2025-02-24T01:03:32.124Z"
   },
   {
    "duration": 9,
    "start_time": "2025-02-24T01:03:32.128Z"
   },
   {
    "duration": 3,
    "start_time": "2025-02-24T01:03:32.139Z"
   },
   {
    "duration": 27,
    "start_time": "2025-02-24T01:03:32.170Z"
   },
   {
    "duration": 2,
    "start_time": "2025-02-24T01:03:32.199Z"
   },
   {
    "duration": 14,
    "start_time": "2025-02-24T01:03:32.203Z"
   },
   {
    "duration": 3,
    "start_time": "2025-02-24T01:03:32.218Z"
   },
   {
    "duration": 17,
    "start_time": "2025-02-24T01:03:32.222Z"
   },
   {
    "duration": 2,
    "start_time": "2025-02-24T01:03:32.241Z"
   },
   {
    "duration": 17,
    "start_time": "2025-02-24T01:03:32.245Z"
   },
   {
    "duration": 8,
    "start_time": "2025-02-24T13:16:31.879Z"
   }
  ],
  "kernelspec": {
   "display_name": "Python 3 (ipykernel)",
   "language": "python",
   "name": "python3"
  },
  "language_info": {
   "codemirror_mode": {
    "name": "ipython",
    "version": 3
   },
   "file_extension": ".py",
   "mimetype": "text/x-python",
   "name": "python",
   "nbconvert_exporter": "python",
   "pygments_lexer": "ipython3",
   "version": "3.9.19"
  },
  "toc": {
   "base_numbering": 1,
   "nav_menu": {},
   "number_sections": true,
   "sideBar": true,
   "skip_h1_title": true,
   "title_cell": "Table of Contents",
   "title_sidebar": "Contents",
   "toc_cell": false,
   "toc_position": {},
   "toc_section_display": true,
   "toc_window_display": false
  }
 },
 "nbformat": 4,
 "nbformat_minor": 2
}
